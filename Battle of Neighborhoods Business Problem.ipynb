{
 "cells": [
  {
   "cell_type": "markdown",
   "metadata": {},
   "source": [
    "<b> Battle of Neighborhoods </b>"
   ]
  },
  {
   "cell_type": "markdown",
   "metadata": {},
   "source": [
    "<i> Introduction / Business Problem </i>"
   ]
  },
  {
   "cell_type": "markdown",
   "metadata": {},
   "source": [
    "Toronto is one of the most densely populated area in Canada. Many variety of people come to Canada from various ethnic backgrounds come to Toronto, Canada. Toronto is one of the largest city in Canada with the population over 6 million. Toronto is a diverse city in which it brings multiculturalism especially in neighborhoods such as: Chinatown, Little Italy, Little Portugal, Koreatown, Corso Italia, Greektown, and many more ethnic neighborhoods. Toronto is one of the major cities to start and grow a business and try other cultural foods. The objective of this project is to use locational and regional clustering to see which neighborhood is the best to open an Indian restaurant. This project will help determine where it is the most suitable location to open a restaurant."
   ]
  },
  {
   "cell_type": "code",
   "execution_count": null,
   "metadata": {},
   "outputs": [],
   "source": []
  }
 ],
 "metadata": {
  "kernelspec": {
   "display_name": "Python 3",
   "language": "python",
   "name": "python3"
  },
  "language_info": {
   "codemirror_mode": {
    "name": "ipython",
    "version": 3
   },
   "file_extension": ".py",
   "mimetype": "text/x-python",
   "name": "python",
   "nbconvert_exporter": "python",
   "pygments_lexer": "ipython3",
   "version": "3.7.4"
  }
 },
 "nbformat": 4,
 "nbformat_minor": 2
}
